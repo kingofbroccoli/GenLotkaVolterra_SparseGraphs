{
 "cells": [
  {
   "cell_type": "code",
   "execution_count": 1,
   "metadata": {},
   "outputs": [],
   "source": [
    "import numpy as np"
   ]
  },
  {
   "cell_type": "code",
   "execution_count": 9,
   "metadata": {},
   "outputs": [],
   "source": [
    "def order_individual_abundances(path, filename, n_leading=5):\n",
    "    data = np.loadtxt(f\"{path}/{filename}\")\n",
    "    data = data[data[:, 1].argsort()]\n",
    "    print(f'First {n_leading} individuals with lowest abundance:')\n",
    "    for i in range(n_leading):\n",
    "        print(f\"Individual {int(data[i, 0]) + 1}: Abundance {data[i, 1]}\")\n",
    "    print(f'Last {n_leading} individuals with lowest abundance:')\n",
    "    for i in range(n_leading):\n",
    "        print(f\"Individual {int(data[-i - 1, 0]) + 1}: Abundance {data[-i - 1, 1]}\")"
   ]
  },
  {
   "cell_type": "code",
   "execution_count": 15,
   "metadata": {},
   "outputs": [],
   "source": [
    "def individual_abundances_below_thr(path, filename, thr):\n",
    "    data = np.loadtxt(f\"{path}/{filename}\")\n",
    "    counted_below_thr = np.sum(data[:, 1] < thr)\n",
    "    counted_above_thr = len(data) - counted_below_thr\n",
    "    print(f'Total individuals below threshold {thr}: {counted_below_thr}   percent: {100.0 * counted_below_thr / len(data):.2f}%')\n",
    "    print(f'Total individuals above threshold {thr}: {counted_above_thr}  percent: {100.0 * counted_above_thr / len(data):.2f}%')"
   ]
  },
  {
   "cell_type": "code",
   "execution_count": 3,
   "metadata": {},
   "outputs": [],
   "source": [
    "def get_avg_runtime(path, filename):\n",
    "    fin = open(f\"{path}/{filename}\", 'r')\n",
    "    avg_runtime = 0.0\n",
    "    avg_runtime_sqr = 0.0\n",
    "    counter = 0\n",
    "    while True:\n",
    "        line = fin.readline()\n",
    "        if not line:\n",
    "            break\n",
    "        avg_runtime += float(line.split()[10])\n",
    "        avg_runtime_sqr += float(line.split()[10]) ** 2\n",
    "        counter += 1\n",
    "    fin.close()\n",
    "        \n",
    "    avg_runtime /= counter\n",
    "    avg_runtime_sqr /= counter\n",
    "    error_avg_runtime = np.sqrt((avg_runtime_sqr - avg_runtime ** 2) / counter)\n",
    "    print(f'Average runtime: {avg_runtime} seconds ± {error_avg_runtime} seconds over {counter} runs.')"
   ]
  },
  {
   "cell_type": "code",
   "execution_count": 4,
   "metadata": {},
   "outputs": [],
   "source": [
    "# path_in = \"/media/david/Data/UH/Grupo_de_investigacion/Ecology/Results/IBMF/AllData/PhaseDiagram/T0/\"\n",
    "path_in = \"/media/david/Seagate Expansion Drive/Salva/Salva_Data_Investigacion/Grupo_de_investigacion/Ecology/Results/IBMF/One_graph/\""
   ]
  },
  {
   "cell_type": "code",
   "execution_count": 10,
   "metadata": {},
   "outputs": [
    {
     "name": "stdout",
     "output_type": "stream",
     "text": [
      "First 10 individuals with lowest abundance:\n",
      "Individual 258: Abundance 2.35269e-05\n",
      "Individual 865: Abundance 4.49374e-05\n",
      "Individual 900: Abundance 0.000149042\n",
      "Individual 304: Abundance 0.000304596\n",
      "Individual 195: Abundance 0.0004828\n",
      "Individual 90: Abundance 0.000546772\n",
      "Individual 138: Abundance 0.000585069\n",
      "Individual 150: Abundance 0.000719252\n",
      "Individual 397: Abundance 0.000733058\n",
      "Individual 862: Abundance 0.00199456\n",
      "Last 10 individuals with lowest abundance:\n",
      "Individual 43: Abundance 1.86776\n",
      "Individual 73: Abundance 1.7324\n",
      "Individual 853: Abundance 1.68176\n",
      "Individual 267: Abundance 1.65842\n",
      "Individual 79: Abundance 1.65621\n",
      "Individual 726: Abundance 1.64301\n",
      "Individual 14: Abundance 1.64206\n",
      "Individual 897: Abundance 1.63822\n",
      "Individual 1022: Abundance 1.63633\n",
      "Individual 41: Abundance 1.63463\n"
     ]
    }
   ],
   "source": [
    "filename = 'IBMF_seq_Graph_Extraction_1_Interaction_Matrix_David_Lotka_Volterra_final_av0_0.500_dn_0.500_T_0.015_lambda_1.0e-06_tol_1.0e-06_maxiter_10000_damping_1.00.txt_seedseq_1_seedinit_1.txt'\n",
    "n_leading = 10\n",
    "order_individual_abundances(path_in, filename, n_leading=n_leading)"
   ]
  },
  {
   "cell_type": "code",
   "execution_count": null,
   "metadata": {},
   "outputs": [
    {
     "name": "stdout",
     "output_type": "stream",
     "text": [
      "Total individuals below threshold 0.6: 93   percent: 9.08%\n",
      "Total individuals above threshold 0.6: 931  percent: 90.92%\n"
     ]
    }
   ],
   "source": [
    "filename = 'IBMF_seq_Graph_Extraction_1_Interaction_Matrix_David_Lotka_Volterra_final_av0_0.500_dn_0.500_T_0.015_lambda_1.0e-06_tol_1.0e-06_maxiter_10000_damping_1.00.txt_seedseq_1_seedinit_1.txt'\n",
    "thr = 0.6\n",
    "individual_abundances_below_thr(path_in, filename, thr)"
   ]
  },
  {
   "cell_type": "code",
   "execution_count": 17,
   "metadata": {},
   "outputs": [
    {
     "name": "stdout",
     "output_type": "stream",
     "text": [
      "Total individuals below threshold 0.1: 33   percent: 3.22%\n",
      "Total individuals above threshold 0.1: 991  percent: 96.78%\n"
     ]
    }
   ],
   "source": [
    "filename = 'IBMF_seq_Graph_Extraction_1_Interaction_Matrix_David_Lotka_Volterra_final_av0_0.500_dn_0.500_T_0.015_lambda_1.0e-06_tol_1.0e-06_maxiter_10000_damping_1.00.txt_seedseq_1_seedinit_1.txt'\n",
    "thr = 0.1\n",
    "individual_abundances_below_thr(path_in, filename, thr)"
   ]
  },
  {
   "cell_type": "code",
   "execution_count": 30,
   "metadata": {},
   "outputs": [
    {
     "name": "stdout",
     "output_type": "stream",
     "text": [
      "Average runtime: 0.021959999999999976 seconds ± 0.0003443602764547726 seconds over 100 runs.\n"
     ]
    }
   ],
   "source": [
    "filename = 'IBMF_seq_Graph_Extraction_1_Interaction_Matrix_David_Lotka_Volterra_T_0.015_lambda_1e-6_0.500_dn_0.500_ninitcond_100_tol_1e-6_maxiter_10000_damping_1.0_nseq_1.txt'\n",
    "get_avg_runtime(path_in, filename)"
   ]
  }
 ],
 "metadata": {
  "kernelspec": {
   "display_name": "ecology",
   "language": "python",
   "name": "python3"
  },
  "language_info": {
   "codemirror_mode": {
    "name": "ipython",
    "version": 3
   },
   "file_extension": ".py",
   "mimetype": "text/x-python",
   "name": "python",
   "nbconvert_exporter": "python",
   "pygments_lexer": "ipython3",
   "version": "3.13.7"
  }
 },
 "nbformat": 4,
 "nbformat_minor": 2
}
